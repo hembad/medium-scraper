{
 "cells": [
  {
   "cell_type": "code",
   "execution_count": 1,
   "metadata": {},
   "outputs": [],
   "source": [
    "import bs4 as bs\n",
    "from dalab import *\n",
    "import time\n",
    "from selenium import webdriver\n",
    "from selenium.webdriver.common.keys import Keys"
   ]
  },
  {
   "cell_type": "code",
   "execution_count": null,
   "metadata": {},
   "outputs": [],
   "source": [
    "def get_links(query):\n",
    "    query = query.replace(' ', '%20')\n",
    "    url = 'https://medium.com/search?q=' + query\n",
    "\n",
    "    driver = webdriver.Chrome()\n",
    "    driver.get(url)\n",
    "    time.sleep(1)\n",
    "\n",
    "    for i in range(0,600):\n",
    "        driver.execute_script('window.scrollBy(0, 1600)')\n",
    "        time.sleep(1)\n",
    "    \n",
    "    time.sleep(2)\n",
    "\n",
    "    source = driver.page_source\n",
    "    soup = bs.BeautifulSoup(source, 'lxml')\n",
    "\n",
    "    result_list =  soup.find_all('div', {'class': 'js-postListHandle'})[0]\n",
    "    results = result_list.find_all('div', {'class': 'postArticle-content'})\n",
    "\n",
    "    links = []\n",
    "    for result in results:\n",
    "        links.append(result.a['href'])\n",
    "        \n",
    "    driver.close()\n",
    "    return links"
   ]
  },
  {
   "cell_type": "code",
   "execution_count": null,
   "metadata": {},
   "outputs": [],
   "source": [
    "def get_stories(links):\n",
    "    stories = []\n",
    "    for index, link in enumerate(links):\n",
    "        try:\n",
    "            soup = get_soup(link)\n",
    "            title = soup.find_all('h1')[0].text\n",
    "            body = soup.find_all('div', {'class': 'postArticle-content'})[0]\n",
    "            story = ''\n",
    "            for element in body.find_all(recursive=True):\n",
    "                tag = element.name\n",
    "                text = element.text\n",
    "                if tag == 'p':\n",
    "                    story += ' ' + text\n",
    "            stories.append(story)\n",
    "            print(index, 'of', len(links), 'stories')\n",
    "        except: pass\n",
    "    return stories"
   ]
  },
  {
   "cell_type": "code",
   "execution_count": null,
   "metadata": {},
   "outputs": [],
   "source": [
    "# queries = ['data science', 'machine learning', 'natural language processing', 'deep learning']\n",
    "\n",
    "queries = ['artificial intelligence', 'machine learning', 'data science', 'big data', 'neural network', \n",
    "           'deep learning', 'natural language processing', 'transfer learning', 'reinforcement learning',\n",
    "           'nlp', 'recurrent neural', 'convolution neural', 'data mining', 'data extraction', \n",
    "           'data engineering', 'web scraping', 'web scrape', 'web crawler', 'web crawling',\n",
    "           'evolutionary computation', 'genetic algorithm', 'genetic programming', 'object recognition',\n",
    "           'image understanding', 'speech processing', ' speech recognition', 'machine translation', \n",
    "           'time series', 'ai', 'intelligent machine', 'pattern recognition', 'computer vision']\n",
    "\n",
    "story_dic = dict.fromkeys(queries)"
   ]
  },
  {
   "cell_type": "code",
   "execution_count": null,
   "metadata": {},
   "outputs": [],
   "source": [
    "for query in queries:\n",
    "    print(' ::', query, ':: ')\n",
    "    links = get_links(query)\n",
    "    stories = get_stories(links)\n",
    "    to_pickle(stories, 'data/medium_stories/' + query.replace(' ', '_'))\n",
    "    story_dic[query] = stories\n",
    "\n",
    "df = pd.DataFrame({col: pd.Series(stories) for col, stories in story_dic.items()})\n",
    "df.columns = [col.replace(' ', '_') for col in df.columns]\n",
    "df.to_csv('huge_medium.csv')"
   ]
  },
  {
   "cell_type": "code",
   "execution_count": 2,
   "metadata": {},
   "outputs": [],
   "source": [
    "lst = read_pickle('data/medium_stories/ai.pickle')"
   ]
  },
  {
   "cell_type": "code",
   "execution_count": 3,
   "metadata": {},
   "outputs": [
    {
     "data": {
      "text/plain": [
       "' A few months ago, I received a cryptic message from AirBnB that sounded like something straight out that Black Mirror episode with Jon Hamm. At first, I wasn’t concerned. Surely there must be a misunderstanding. After all, I’ve been a loyal AirBnB evangelist from the early days. I referred dozens of friends when it first launched. I even convinced my parents to list their vacation properties. After reaching out to support, I received the following unsettling email. Okay, this is a tough spot. Somehow I’ve violated the terms of service, but they won’t tell me which ones. And I can’t communicate with them anymore. Seems a little harsh. At this point, I was pretty shocked but also very curious about what I could have possibly done. After carefully reading the AirBnB terms of service and reading about the most common ways people get banned from AirBnB, I went through each of my bookings. My first thought was that I must have inadvertently paid one of the hosts in cash because this is the #1 reason why people get banned. But I confirmed that all my bookings were paid through AirBnB. No foul play there. After discussing with my girlfriend, the only thing we could think of was that we had recently had a very uncomfortable AirBnB experience with a rude host. After booking the weekend, we were told that we’d need to vacate the premises from 12–4pm because the room was located in a spa retreat. The conflict arose when the host entered the room an hour early, unannounced. She forgot to let us know she’d be coming an hour early with spa guests. We weren’t dressed but she continued setting up while we eventually scurried outside in front of the spa guests. When the trip was over, we decided not to leave a review after giving her the benefit of the doubt that it was just a bad day. The property itself was great. A few weeks later, I saw that the host left me a critical review with completely distorted details from what had actually happened I emailed AirBnB to report that the host had fabricated details in her review\\u200a—\\u200adetails which could be proven within the AirBnB platform. But I was told it’s against their policy to censor reviews, even if they’re dishonest. Because the review period had passed on AirBnB and I felt the need to do some justice to my side of the story, I left a review on Google instead. The host has received a number of similar complaints so it definitely wasn’t an isolated incident. I still can’t believe that leaving an offsite review was a bannable offense, but even more disturbing to me is the way AirBnB handled the situation with a one-sided, permanent, irreversible, closed book suspension. The part that’s especially poetic to me is that AirBnB touts a firm brand message of community and connectedness with their “Belong Anywhere” campaigns but the frightening reality is that any individual user is completely disposable, without a shred of appeal to due process. I’m really thankful that I wasn’t reliant on AirBnB income like so many of my friends. But let’s call it like it is. This policy leverages the company’s power over the individual user to a cruel and unprecedented extent. And it’s in laughable contradiction to the brand’s inflated idealism. After emailing AirBnB support and its founders multiple times, I’ve finally given up. Moving forward, I question whether these types of suspensions should be allowed from the tech giants without any oversight or regulation. At what point does a company become pervasive enough in everyday life that they owe users an explanation or warning before dropping the guillotine? Or is this all part of an ongoing trend, toward something like the Chinese Social Credit Score system, where the consequences of not maintaining a high rating are socially crippling? We’re becoming increasingly dependent on a handful of major tech giants to get through our basic daily routine. Imagine waking up one day and no longer being able to check your Gmail, buy things on Amazon, or book an Uber. It all feels very 1984. Or Black Mirror. The one with Jon Hamm. — —'"
      ]
     },
     "execution_count": 3,
     "metadata": {},
     "output_type": "execute_result"
    }
   ],
   "source": [
    "lst[0]"
   ]
  },
  {
   "cell_type": "code",
   "execution_count": null,
   "metadata": {},
   "outputs": [],
   "source": [
    "# Needs improvement - what tags are relevant to the text body? \n",
    "# For now using only text paragraphs (p)\n",
    "# tag_filter = ['figure', 'img', 'h1', 'h2', 'h3', 'h4', 'h5', 'l1', 'l2', 'l3', 'l4', 'l5' 'strong', 'p', 'figcaption']"
   ]
  }
 ],
 "metadata": {
  "kernelspec": {
   "display_name": "Python [conda root]",
   "language": "python",
   "name": "conda-root-py"
  },
  "language_info": {
   "codemirror_mode": {
    "name": "ipython",
    "version": 3
   },
   "file_extension": ".py",
   "mimetype": "text/x-python",
   "name": "python",
   "nbconvert_exporter": "python",
   "pygments_lexer": "ipython3",
   "version": "3.6.8"
  }
 },
 "nbformat": 4,
 "nbformat_minor": 2
}
